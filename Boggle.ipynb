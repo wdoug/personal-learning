{
 "cells": [
  {
   "cell_type": "markdown",
   "metadata": {},
   "source": [
    "# Boggle Word Finder"
   ]
  },
  {
   "cell_type": "code",
   "execution_count": 30,
   "metadata": {},
   "outputs": [],
   "source": [
    "import random\n",
    "import numpy as np\n",
    "import urllib.request"
   ]
  },
  {
   "cell_type": "markdown",
   "metadata": {},
   "source": [
    "## Getting a Boggle Board"
   ]
  },
  {
   "cell_type": "code",
   "execution_count": 2,
   "metadata": {},
   "outputs": [],
   "source": [
    "chars = 'abcdefghijklmnopqrstuvwxyz'"
   ]
  },
  {
   "cell_type": "code",
   "execution_count": 322,
   "metadata": {},
   "outputs": [],
   "source": [
    "def get_random_char():\n",
    "    return chars[random.randint(0,25)]"
   ]
  },
  {
   "cell_type": "code",
   "execution_count": 323,
   "metadata": {},
   "outputs": [],
   "source": [
    "def get_random_boggle_board(x_dim=4, y_dim=4):\n",
    "    return [[get_random_char() for i in range(x_dim)] for j in range(y_dim)]"
   ]
  },
  {
   "cell_type": "code",
   "execution_count": 327,
   "metadata": {
    "scrolled": true
   },
   "outputs": [
    {
     "data": {
      "text/plain": [
       "[['a', 'a', 's', 'u'],\n",
       " ['e', 'u', 'v', 'p'],\n",
       " ['z', 'q', 'b', 'o'],\n",
       " ['c', 'd', 'c', 'u']]"
      ]
     },
     "execution_count": 327,
     "metadata": {},
     "output_type": "execute_result"
    }
   ],
   "source": [
    "boggle_board = get_random_boggle_board(); boggle_board"
   ]
  },
  {
   "cell_type": "markdown",
   "metadata": {},
   "source": [
    "## Building a Dictionary Trie"
   ]
  },
  {
   "cell_type": "markdown",
   "metadata": {},
   "source": [
    "The boggle board will use a trie as an index for quickly checking the words availble in the board"
   ]
  },
  {
   "cell_type": "code",
   "execution_count": 11,
   "metadata": {},
   "outputs": [],
   "source": [
    "term_char = ''"
   ]
  },
  {
   "cell_type": "markdown",
   "metadata": {},
   "source": [
    "Here is an example of what the trie looks like:"
   ]
  },
  {
   "cell_type": "code",
   "execution_count": 20,
   "metadata": {},
   "outputs": [
    {
     "data": {
      "text/plain": [
       "True"
      ]
     },
     "execution_count": 20,
     "metadata": {},
     "output_type": "execute_result"
    }
   ],
   "source": [
    "dict_trie = {'a': {term_char: True, \n",
    "                   'n': {term_char: True}, \n",
    "                   'b': {term_char: True}},\n",
    "             }\n",
    "dict_trie['a']['n'][term_char]"
   ]
  },
  {
   "cell_type": "code",
   "execution_count": 18,
   "metadata": {},
   "outputs": [],
   "source": [
    "def build_dict_trie(dict_words):\n",
    "    dict_trie = {}\n",
    "    for word in dict_words:\n",
    "        trie_node = dict_trie\n",
    "        for char in word:\n",
    "            if char not in trie_node:\n",
    "                trie_node[char] = {}\n",
    "            trie_node = trie_node[char]\n",
    "        trie_node[term_char] = True\n",
    "    return dict_trie            "
   ]
  },
  {
   "cell_type": "code",
   "execution_count": 285,
   "metadata": {},
   "outputs": [],
   "source": [
    "url_for_words = 'https://raw.githubusercontent.com/first20hours/google-10000-english/master/google-10000-english-no-swears.txt'\n",
    "# url_for_words = 'https://raw.githubusercontent.com/dwyl/english-words/master/words_alpha.txt'\n",
    "en_words = [];\n",
    "with urllib.request.urlopen(url_for_words) as response:\n",
    "    en_words = response.read().decode('utf-8').split('\\n')"
   ]
  },
  {
   "cell_type": "code",
   "execution_count": 286,
   "metadata": {},
   "outputs": [
    {
     "data": {
      "text/plain": [
       "['the', 'of', 'and', 'to', 'a', 'in', 'for', 'is', 'on', 'that']"
      ]
     },
     "execution_count": 286,
     "metadata": {},
     "output_type": "execute_result"
    }
   ],
   "source": [
    "en_words[:10]"
   ]
  },
  {
   "cell_type": "code",
   "execution_count": 287,
   "metadata": {},
   "outputs": [
    {
     "data": {
      "text/plain": [
       "['the', 'and', 'for', 'that', 'this', 'with', 'you', 'not', 'are', 'from']"
      ]
     },
     "execution_count": 287,
     "metadata": {},
     "output_type": "execute_result"
    }
   ],
   "source": [
    "en_words_longer_than_2_chars = [w for w in en_words if len(w) > 2]; en_words_longer_than_2_chars[:10]"
   ]
  },
  {
   "cell_type": "code",
   "execution_count": 288,
   "metadata": {},
   "outputs": [],
   "source": [
    "dict_trie = build_dict_trie(en_words_longer_than_2_chars)"
   ]
  },
  {
   "cell_type": "markdown",
   "metadata": {},
   "source": [
    "## Get all Words Available in a Boggle Board"
   ]
  },
  {
   "cell_type": "code",
   "execution_count": 272,
   "metadata": {},
   "outputs": [],
   "source": [
    "def get_boggle_words(boggle_board):\n",
    "    words = set()\n",
    "    board_shape = np.shape(boggle_board)\n",
    "    for j,i in np.ndindex(board_shape):\n",
    "        next_char = boggle_board[j][i]\n",
    "        words |= get_boggle_words_from_index(boggle_board, next_char, ((i,j),), dict_trie[next_char], board_shape)\n",
    "    return words"
   ]
  },
  {
   "cell_type": "code",
   "execution_count": 273,
   "metadata": {},
   "outputs": [],
   "source": [
    "def is_valid_new_index(new_idx, idxs, board_shape):\n",
    "    i,j = new_idx\n",
    "    y_dim, x_dim = board_shape\n",
    "    return 0 <= i < x_dim and 0 <= j < y_dim and new_idx not in idxs"
   ]
  },
  {
   "cell_type": "code",
   "execution_count": 274,
   "metadata": {},
   "outputs": [],
   "source": [
    "def get_boggle_words_from_index(boggle_board, prev_chars, idxs, trie_node, board_shape):\n",
    "    i,j = idxs[-1]\n",
    "    words = set()\n",
    "    if term_char in trie_node:\n",
    "        words.add(prev_chars)\n",
    "\n",
    "    for x in [-1,0,1]:\n",
    "        for y in [-1,0,1]:\n",
    "            new_i = i + x\n",
    "            new_j = j + y\n",
    "            new_idx = (new_i, new_j);\n",
    "            if is_valid_new_index(new_idx, idxs, board_shape):\n",
    "                new_idxs = idxs + (new_idx,)\n",
    "                next_char = boggle_board[new_j][new_i]\n",
    "                if next_char in trie_node:\n",
    "                    words |= get_boggle_words_from_index(boggle_board, \n",
    "                                                         prev_chars+next_char, \n",
    "                                                         new_idxs, \n",
    "                                                         trie_node[next_char], \n",
    "                                                         board_shape)\n",
    "    return words"
   ]
  },
  {
   "cell_type": "code",
   "execution_count": 275,
   "metadata": {},
   "outputs": [
    {
     "data": {
      "text/plain": [
       "{'abn', 'ban', 'nab', 'zan'}"
      ]
     },
     "execution_count": 275,
     "metadata": {},
     "output_type": "execute_result"
    }
   ],
   "source": [
    "get_boggle_words([['a', 'z'],\n",
    "                  ['b', 'n']])"
   ]
  },
  {
   "cell_type": "code",
   "execution_count": 290,
   "metadata": {},
   "outputs": [
    {
     "data": {
      "text/plain": [
       "{'inc', 'pci', 'pic', 'pin', 'zinc', 'zip'}"
      ]
     },
     "execution_count": 290,
     "metadata": {},
     "output_type": "execute_result"
    }
   ],
   "source": [
    "get_boggle_words([['p', 'c'],\n",
    "                  ['i', 'n'],\n",
    "                  ['z', 'c']])"
   ]
  },
  {
   "cell_type": "code",
   "execution_count": 278,
   "metadata": {},
   "outputs": [
    {
     "data": {
      "text/plain": [
       "True"
      ]
     },
     "execution_count": 278,
     "metadata": {},
     "output_type": "execute_result"
    }
   ],
   "source": [
    "'bottle' in en_words_longer_than_2_chars"
   ]
  },
  {
   "cell_type": "code",
   "execution_count": 263,
   "metadata": {},
   "outputs": [
    {
     "data": {
      "text/plain": [
       "([['k', 'p', 'q', 'q'],\n",
       "  ['z', 'h', 'v', 'x'],\n",
       "  ['n', 'm', 'r', 's'],\n",
       "  ['f', 't', 'j', 'o']],\n",
       " {'hrs', 'mhz', 'mrs', 'sort'})"
      ]
     },
     "execution_count": 263,
     "metadata": {},
     "output_type": "execute_result"
    }
   ],
   "source": [
    "boggle_board = get_random_boggle_board() \n",
    "boggle_board, get_boggle_words(boggle_board)"
   ]
  },
  {
   "cell_type": "markdown",
   "metadata": {},
   "source": [
    "## What About an Object Oriented Approach"
   ]
  },
  {
   "cell_type": "code",
   "execution_count": 150,
   "metadata": {},
   "outputs": [],
   "source": [
    "class BoggleNode:\n",
    "    def __init__(self, char=None):\n",
    "        self.char = char or get_random_char();\n",
    "        self.adjacent_nodes = [];\n",
    "        \n",
    "    def add_adjacent_node(self, node):\n",
    "        self.adjacent_nodes.append(node)"
   ]
  },
  {
   "cell_type": "code",
   "execution_count": 249,
   "metadata": {},
   "outputs": [],
   "source": [
    "class BoggleBoard:\n",
    "    def __init__(self, shape=(4,4)):\n",
    "        self.shape = shape\n",
    "        self.board = [[BoggleNode() for i in range(shape[1])] for j in range(shape[0])]\n",
    "        self._initialize_node_links_()\n",
    "    \n",
    "    def _initialize_node_links_(self):\n",
    "        for j,i in np.ndindex(self.shape):\n",
    "            for offset_j, offset_i in np.ndindex((3,3)):\n",
    "                j2 = j - 1 + offset_j\n",
    "                i2 = i - 1 + offset_i\n",
    "                is_self_node = j2 == j and i2 == i\n",
    "                if (not is_self_node) and 0 <= j2 < self.shape[0] and 0 <= i2 < self.shape[1]:\n",
    "                    self.board[j][i].add_adjacent_node(self.board[j2][i2])\n",
    "                    \n",
    "    def find_all_words(self):\n",
    "        words = set()\n",
    "        for j,i in np.ndindex(self.shape):\n",
    "            node = self.board[j][i]\n",
    "            words |= self._find_words_from_node_(node, dict_trie[node.char], (node,));\n",
    "        return words\n",
    "        \n",
    "    def _find_words_from_node_(self, node, trie_node, prev_nodes):\n",
    "        words = set()\n",
    "        if term_char in trie_node:\n",
    "            words.add(''.join([node.char for node in prev_nodes]))\n",
    "        for next_node in node.adjacent_nodes:\n",
    "            next_char = next_node.char\n",
    "            if next_char in trie_node:\n",
    "                words |= self._find_words_from_node_(next_node, trie_node[next_char], prev_nodes + (next_node,))\n",
    "        return words\n",
    "    \n",
    "    def __repr__(self):\n",
    "        return '\\n'.join([' '.join([self.board[j][i].char for i in range(self.shape[1])]) for j in range(self.shape[0])])"
   ]
  },
  {
   "cell_type": "code",
   "execution_count": 250,
   "metadata": {},
   "outputs": [
    {
     "data": {
      "text/plain": [
       "(p p d r\n",
       " i n g e\n",
       " c w z w\n",
       " d m e l,\n",
       " {'de',\n",
       "  'der',\n",
       "  'dpi',\n",
       "  'drew',\n",
       "  'ed',\n",
       "  'edge',\n",
       "  'el',\n",
       "  'em',\n",
       "  'er',\n",
       "  'gdp',\n",
       "  'greg',\n",
       "  'grew',\n",
       "  'i',\n",
       "  'in',\n",
       "  'inc',\n",
       "  'ind',\n",
       "  'ing',\n",
       "  'me',\n",
       "  'mel',\n",
       "  'mem',\n",
       "  'pgp',\n",
       "  'pi',\n",
       "  'pic',\n",
       "  'picnic',\n",
       "  'pin',\n",
       "  'ping',\n",
       "  're',\n",
       "  'red',\n",
       "  'reg',\n",
       "  'we',\n",
       "  'wed',\n",
       "  'were',\n",
       "  'win',\n",
       "  'wind',\n",
       "  'wing'})"
      ]
     },
     "execution_count": 250,
     "metadata": {},
     "output_type": "execute_result"
    }
   ],
   "source": [
    "b = BoggleBoard(shape=(4,4))\n",
    "b,b.find_all_words()"
   ]
  },
  {
   "cell_type": "markdown",
   "metadata": {},
   "source": [
    "## Making it easier to find words"
   ]
  },
  {
   "cell_type": "code",
   "execution_count": 299,
   "metadata": {},
   "outputs": [
    {
     "data": {
      "text/plain": [
       "{'a': 5299,\n",
       " 'b': 1082,\n",
       " 'c': 2945,\n",
       " 'd': 2450,\n",
       " 'e': 7524,\n",
       " 'f': 884,\n",
       " 'g': 1670,\n",
       " 'h': 1381,\n",
       " 'i': 5394,\n",
       " 'j': 160,\n",
       " 'k': 564,\n",
       " 'l': 3171,\n",
       " 'm': 1845,\n",
       " 'n': 4752,\n",
       " 'o': 4157,\n",
       " 'p': 1961,\n",
       " 'q': 115,\n",
       " 'r': 4795,\n",
       " 's': 4987,\n",
       " 't': 4684,\n",
       " 'u': 1887,\n",
       " 'v': 820,\n",
       " 'w': 599,\n",
       " 'x': 237,\n",
       " 'y': 1002,\n",
       " 'z': 125}"
      ]
     },
     "execution_count": 299,
     "metadata": {},
     "output_type": "execute_result"
    }
   ],
   "source": [
    "char_counts = {}\n",
    "for word in en_words_longer_than_2_chars:\n",
    "    for char in word:\n",
    "        char_counts[char] = 1 if char not in char_counts else char_counts[char] + 1\n",
    "char_counts"
   ]
  },
  {
   "cell_type": "code",
   "execution_count": 310,
   "metadata": {},
   "outputs": [
    {
     "data": {
      "text/plain": [
       "{0: 'a',\n",
       " 1: 'b',\n",
       " 2: 'c',\n",
       " 3: 'd',\n",
       " 4: 'e',\n",
       " 5: 'f',\n",
       " 6: 'g',\n",
       " 7: 'h',\n",
       " 8: 'i',\n",
       " 9: 'j',\n",
       " 10: 'k',\n",
       " 11: 'l',\n",
       " 12: 'm',\n",
       " 13: 'n',\n",
       " 14: 'o',\n",
       " 15: 'p',\n",
       " 16: 'q',\n",
       " 17: 'r',\n",
       " 18: 's',\n",
       " 19: 't',\n",
       " 20: 'u',\n",
       " 21: 'v',\n",
       " 22: 'w',\n",
       " 23: 'x',\n",
       " 24: 'y',\n",
       " 25: 'z'}"
      ]
     },
     "execution_count": 310,
     "metadata": {},
     "output_type": "execute_result"
    }
   ],
   "source": [
    "num_to_char_dict = { i: chars[i] for i in range(len(chars)) }\n",
    "num_to_char_dict"
   ]
  },
  {
   "cell_type": "code",
   "execution_count": 312,
   "metadata": {},
   "outputs": [
    {
     "data": {
      "text/plain": [
       "[5299,\n",
       " 6381,\n",
       " 9326,\n",
       " 11776,\n",
       " 19300,\n",
       " 20184,\n",
       " 21854,\n",
       " 23235,\n",
       " 28629,\n",
       " 28789,\n",
       " 29353,\n",
       " 32524,\n",
       " 34369,\n",
       " 39121,\n",
       " 43278,\n",
       " 45239,\n",
       " 45354,\n",
       " 50149,\n",
       " 55136,\n",
       " 59820,\n",
       " 61707,\n",
       " 62527,\n",
       " 63126,\n",
       " 63363,\n",
       " 64365,\n",
       " 64490]"
      ]
     },
     "execution_count": 312,
     "metadata": {},
     "output_type": "execute_result"
    }
   ],
   "source": [
    "running_total = 0\n",
    "totals = []\n",
    "for i in range(len(chars)):\n",
    "    char_count = char_counts[num_to_char_dict[i]]\n",
    "    running_total += char_count\n",
    "    totals.append(running_total)\n",
    "totals"
   ]
  },
  {
   "cell_type": "code",
   "execution_count": 313,
   "metadata": {},
   "outputs": [],
   "source": [
    "import bisect"
   ]
  },
  {
   "cell_type": "code",
   "execution_count": 331,
   "metadata": {},
   "outputs": [
    {
     "data": {
      "text/plain": [
       "3"
      ]
     },
     "execution_count": 331,
     "metadata": {},
     "output_type": "execute_result"
    }
   ],
   "source": [
    "bisect.bisect_right([1,3,44,45,50], 44)"
   ]
  },
  {
   "cell_type": "code",
   "execution_count": 334,
   "metadata": {},
   "outputs": [],
   "source": [
    "totals_max = max(totals)\n",
    "def get_random_char_based_on_freq():\n",
    "    rand = random.randint(0, totals_max - 1)\n",
    "    freq_based_idx = bisect.bisect_right(totals, rand)\n",
    "    return num_to_char_dict[freq_based_idx]"
   ]
  },
  {
   "cell_type": "code",
   "execution_count": 335,
   "metadata": {},
   "outputs": [
    {
     "data": {
      "text/plain": [
       "{'a': 5460,\n",
       " 'b': 1068,\n",
       " 'c': 2958,\n",
       " 'd': 2443,\n",
       " 'e': 7523,\n",
       " 'f': 871,\n",
       " 'g': 1660,\n",
       " 'h': 1377,\n",
       " 'i': 5440,\n",
       " 'j': 172,\n",
       " 'k': 577,\n",
       " 'l': 3240,\n",
       " 'm': 1833,\n",
       " 'n': 4701,\n",
       " 'o': 4148,\n",
       " 'p': 1978,\n",
       " 'q': 118,\n",
       " 'r': 4780,\n",
       " 's': 5007,\n",
       " 't': 4456,\n",
       " 'u': 1869,\n",
       " 'v': 850,\n",
       " 'w': 606,\n",
       " 'x': 233,\n",
       " 'y': 1005,\n",
       " 'z': 117}"
      ]
     },
     "execution_count": 335,
     "metadata": {},
     "output_type": "execute_result"
    }
   ],
   "source": [
    "# Verify get_random_char_based_on_freq works properly\n",
    "count_of_random_chars = { char: 0 for char in chars }\n",
    "for i in range(totals_max):\n",
    "    random_char = get_random_char_based_on_freq()\n",
    "    count_of_random_chars[random_char] += 1\n",
    "count_of_random_chars"
   ]
  },
  {
   "cell_type": "code",
   "execution_count": 336,
   "metadata": {},
   "outputs": [],
   "source": [
    "get_random_char = get_random_char_based_on_freq"
   ]
  },
  {
   "cell_type": "code",
   "execution_count": 341,
   "metadata": {},
   "outputs": [
    {
     "data": {
      "text/plain": [
       "([['n', 't', 'a', 'n', 'c'],\n",
       "  ['i', 'b', 's', 'i', 'l'],\n",
       "  ['f', 'k', 'n', 'b', 'r'],\n",
       "  ['r', 'l', 'a', 't', 'm'],\n",
       "  ['m', 'n', 'a', 't', 'a'],\n",
       "  ['s', 'c', 'n', 'e', 'i']],\n",
       " {'abs',\n",
       "  'acm',\n",
       "  'acne',\n",
       "  'air',\n",
       "  'ala',\n",
       "  'alan',\n",
       "  'ana',\n",
       "  'ann',\n",
       "  'anna',\n",
       "  'anne',\n",
       "  'ant',\n",
       "  'anti',\n",
       "  'asin',\n",
       "  'ask',\n",
       "  'asn',\n",
       "  'ata',\n",
       "  'ate',\n",
       "  'ati',\n",
       "  'atm',\n",
       "  'ban',\n",
       "  'bank',\n",
       "  'banks',\n",
       "  'basic',\n",
       "  'basin',\n",
       "  'bat',\n",
       "  'bias',\n",
       "  'bin',\n",
       "  'bit',\n",
       "  'bits',\n",
       "  'blink',\n",
       "  'brian',\n",
       "  'cal',\n",
       "  'calm',\n",
       "  'can',\n",
       "  'canal',\n",
       "  'cant',\n",
       "  'cat',\n",
       "  'cia',\n",
       "  'cir',\n",
       "  'cms',\n",
       "  'cnet',\n",
       "  'cnn',\n",
       "  'eat',\n",
       "  'ent',\n",
       "  'fbi',\n",
       "  'fin',\n",
       "  'fit',\n",
       "  'fits',\n",
       "  'flat',\n",
       "  'ian',\n",
       "  'ibm',\n",
       "  'inc',\n",
       "  'incl',\n",
       "  'ink',\n",
       "  'ins',\n",
       "  'int',\n",
       "  'isa',\n",
       "  'isbn',\n",
       "  'ist',\n",
       "  'its',\n",
       "  'kate',\n",
       "  'katie',\n",
       "  'katrina',\n",
       "  'kit',\n",
       "  'kits',\n",
       "  'lab',\n",
       "  'labs',\n",
       "  'lan',\n",
       "  'lane',\n",
       "  'lat',\n",
       "  'late',\n",
       "  'lbs',\n",
       "  'lib',\n",
       "  'libs',\n",
       "  'link',\n",
       "  'links',\n",
       "  'lisa',\n",
       "  'list',\n",
       "  'mae',\n",
       "  'mai',\n",
       "  'mat',\n",
       "  'mate',\n",
       "  'matt',\n",
       "  'mba',\n",
       "  'mrna',\n",
       "  'msn',\n",
       "  'nail',\n",
       "  'nat',\n",
       "  'nba',\n",
       "  'ncaa',\n",
       "  'net',\n",
       "  'nil',\n",
       "  'risk',\n",
       "  'rna',\n",
       "  'sail',\n",
       "  'saint',\n",
       "  'san',\n",
       "  'sat',\n",
       "  'satin',\n",
       "  'scan',\n",
       "  'sic',\n",
       "  'sin',\n",
       "  'sink',\n",
       "  'sir',\n",
       "  'ski',\n",
       "  'skin',\n",
       "  'stan',\n",
       "  'tab',\n",
       "  'tabs',\n",
       "  'tail',\n",
       "  'talk',\n",
       "  'talks',\n",
       "  'tan',\n",
       "  'tank',\n",
       "  'tanks',\n",
       "  'task',\n",
       "  'tba',\n",
       "  'tea',\n",
       "  'team',\n",
       "  'ten',\n",
       "  'tie',\n",
       "  'tin',\n",
       "  'tri',\n",
       "  'tribal'})"
      ]
     },
     "execution_count": 341,
     "metadata": {},
     "output_type": "execute_result"
    }
   ],
   "source": [
    "boggle_board = get_random_boggle_board(5,6) \n",
    "boggle_board, get_boggle_words(boggle_board)"
   ]
  },
  {
   "cell_type": "code",
   "execution_count": null,
   "metadata": {},
   "outputs": [],
   "source": []
  }
 ],
 "metadata": {
  "kernelspec": {
   "display_name": "Python 3",
   "language": "python",
   "name": "python3"
  },
  "language_info": {
   "codemirror_mode": {
    "name": "ipython",
    "version": 3
   },
   "file_extension": ".py",
   "mimetype": "text/x-python",
   "name": "python",
   "nbconvert_exporter": "python",
   "pygments_lexer": "ipython3",
   "version": "3.6.4"
  }
 },
 "nbformat": 4,
 "nbformat_minor": 2
}
