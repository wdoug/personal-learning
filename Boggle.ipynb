{
 "cells": [
  {
   "cell_type": "markdown",
   "metadata": {},
   "source": [
    "# Boggle Word Finder"
   ]
  },
  {
   "cell_type": "code",
   "execution_count": 30,
   "metadata": {},
   "outputs": [],
   "source": [
    "import random\n",
    "import numpy as np\n",
    "import urllib.request"
   ]
  },
  {
   "cell_type": "markdown",
   "metadata": {},
   "source": [
    "## Getting a Boggle Board"
   ]
  },
  {
   "cell_type": "code",
   "execution_count": 2,
   "metadata": {},
   "outputs": [],
   "source": [
    "chars = 'abcdefghijklmnopqrstuvwxyz'"
   ]
  },
  {
   "cell_type": "code",
   "execution_count": 3,
   "metadata": {},
   "outputs": [],
   "source": [
    "def get_random_char():\n",
    "    return chars[random.randint(1,25)]"
   ]
  },
  {
   "cell_type": "code",
   "execution_count": 7,
   "metadata": {},
   "outputs": [],
   "source": [
    "def get_random_boggle_board(x_dim=4, y_dim=4):\n",
    "    return [[get_random_char() for i in range(x_dim)] for j in range(y_dim)]"
   ]
  },
  {
   "cell_type": "code",
   "execution_count": 8,
   "metadata": {
    "scrolled": true
   },
   "outputs": [
    {
     "data": {
      "text/plain": [
       "[['t', 'j', 'n', 'r'],\n",
       " ['q', 'o', 'l', 'k'],\n",
       " ['p', 'i', 'e', 'h'],\n",
       " ['p', 'f', 'q', 's']]"
      ]
     },
     "execution_count": 8,
     "metadata": {},
     "output_type": "execute_result"
    }
   ],
   "source": [
    "boggle_board = get_random_boggle_board(); boggle_board"
   ]
  },
  {
   "cell_type": "markdown",
   "metadata": {},
   "source": [
    "## Building a Dictionary Trie"
   ]
  },
  {
   "cell_type": "markdown",
   "metadata": {},
   "source": [
    "The boggle board will use a trie as an index for quickly checking the words availble in the board"
   ]
  },
  {
   "cell_type": "code",
   "execution_count": 11,
   "metadata": {},
   "outputs": [],
   "source": [
    "term_char = ''"
   ]
  },
  {
   "cell_type": "markdown",
   "metadata": {},
   "source": [
    "Here is an example of what the trie looks like:"
   ]
  },
  {
   "cell_type": "code",
   "execution_count": 20,
   "metadata": {},
   "outputs": [
    {
     "data": {
      "text/plain": [
       "True"
      ]
     },
     "execution_count": 20,
     "metadata": {},
     "output_type": "execute_result"
    }
   ],
   "source": [
    "dict_trie = {'a': {term_char: True, \n",
    "                   'n': {term_char: True}, \n",
    "                   'b': {term_char: True}},\n",
    "             }\n",
    "dict_trie['a']['n'][term_char]"
   ]
  },
  {
   "cell_type": "code",
   "execution_count": 18,
   "metadata": {},
   "outputs": [],
   "source": [
    "def build_dict_trie(dict_words):\n",
    "    dict_trie = {}\n",
    "    for word in dict_words:\n",
    "        trie_node = dict_trie\n",
    "        for char in word:\n",
    "            if char not in trie_node:\n",
    "                trie_node[char] = {}\n",
    "            trie_node = trie_node[char]\n",
    "        trie_node[term_char] = True\n",
    "    return dict_trie            "
   ]
  },
  {
   "cell_type": "code",
   "execution_count": 34,
   "metadata": {},
   "outputs": [],
   "source": [
    "url_for_10000_most_common_en_words = 'https://raw.githubusercontent.com/first20hours/google-10000-english/master/google-10000-english-no-swears.txt'\n",
    "en_words = [];\n",
    "with urllib.request.urlopen(url_for_10000_most_common_en_words) as response:\n",
    "    en_words = response.read().decode('utf-8').split('\\n')"
   ]
  },
  {
   "cell_type": "code",
   "execution_count": 37,
   "metadata": {},
   "outputs": [
    {
     "data": {
      "text/plain": [
       "['the', 'of', 'and', 'to', 'a', 'in', 'for', 'is', 'on', 'that']"
      ]
     },
     "execution_count": 37,
     "metadata": {},
     "output_type": "execute_result"
    }
   ],
   "source": [
    "en_words[:10]"
   ]
  },
  {
   "cell_type": "markdown",
   "metadata": {},
   "source": [
    "It turns out there are a ton of weird short words in that dataset. I'm assuming they must be acronyms or IM shorthand or something. I wanted to filter down to a smaller set of 1 and 2 character words:"
   ]
  },
  {
   "cell_type": "code",
   "execution_count": 55,
   "metadata": {},
   "outputs": [],
   "source": [
    "allowed_one_and_two_char_words = [ # 2 char words taken from: http://wordfinder.yourdictionary.com/letter-words/2\n",
    "    'a', \n",
    "    'i', \n",
    "    \"jo\",\n",
    "    \"za\",\n",
    "    \"qi\",\n",
    "    \"xu\",\n",
    "    \"xi\",\n",
    "    \"ox\",\n",
    "    \"ax\",\n",
    "    \"ex\",\n",
    "    \"mm\",\n",
    "    \"hm\",\n",
    "    \"by\",\n",
    "    \"my\",\n",
    "    \"up\",\n",
    "    \"mu\",\n",
    "    \"ki\",\n",
    "    \"um\",\n",
    "    \"ka\",\n",
    "    \"fe\",\n",
    "    \"fa\",\n",
    "    \"of\",\n",
    "    \"ma\",\n",
    "    \"op\",\n",
    "    \"pe\",\n",
    "    \"pa\",\n",
    "    \"if\",\n",
    "    \"pi\",\n",
    "    \"me\",\n",
    "    \"ow\",\n",
    "    \"am\",\n",
    "    \"mi\",\n",
    "    \"om\",\n",
    "    \"ba\",\n",
    "    \"aw\",\n",
    "    \"we\",\n",
    "    \"wo\",\n",
    "    \"uh\",\n",
    "    \"be\",\n",
    "    \"ab\",\n",
    "    \"em\",\n",
    "    \"bi\",\n",
    "    \"ef\",\n",
    "    \"mo\",\n",
    "    \"bo\",\n",
    "    \"nu\",\n",
    "    \"ag\",\n",
    "    \"oh\",\n",
    "    \"go\",\n",
    "    \"ay\",\n",
    "    \"eh\",\n",
    "    \"ah\",\n",
    "    \"ye\",\n",
    "    \"ya\",\n",
    "    \"oy\",\n",
    "    \"un\",\n",
    "    \"he\",\n",
    "    \"hi\",\n",
    "    \"ho\",\n",
    "    \"sh\",\n",
    "    \"ha\",\n",
    "    \"yo\",\n",
    "    \"us\",\n",
    "    \"ut\",\n",
    "    \"on\",\n",
    "    \"li\",\n",
    "    \"id\",\n",
    "    \"in\",\n",
    "    \"an\",\n",
    "    \"de\",\n",
    "    \"do\",\n",
    "    \"en\",\n",
    "    \"el\",\n",
    "    \"ed\",\n",
    "    \"al\",\n",
    "    \"la\",\n",
    "    \"lo\",\n",
    "    \"ne\",\n",
    "    \"ad\",\n",
    "    \"no\",\n",
    "    \"od\",\n",
    "    \"na\",\n",
    "    \"as\",\n",
    "    \"ai\",\n",
    "    \"ar\",\n",
    "    \"ae\",\n",
    "    \"er\",\n",
    "    \"at\",\n",
    "    \"si\",\n",
    "    \"it\",\n",
    "    \"is\",\n",
    "    \"aa\",\n",
    "    \"os\",\n",
    "    \"oi\",\n",
    "    \"or\",\n",
    "    \"et\",\n",
    "    \"re\",\n",
    "    \"ta\",\n",
    "    \"ti\",\n",
    "    \"so\",\n",
    "    \"oe\",\n",
    "    \"es\",\n",
    "    \"to\"\n",
    "]"
   ]
  },
  {
   "cell_type": "code",
   "execution_count": 61,
   "metadata": {},
   "outputs": [],
   "source": [
    "en_words_filtered_short_words = [w for w in en_words if len(w) > 2] + allowed_one_and_two_char_words"
   ]
  },
  {
   "cell_type": "code",
   "execution_count": 62,
   "metadata": {},
   "outputs": [],
   "source": [
    "dict_trie = build_dict_trie(en_words_filtered_short_words)"
   ]
  },
  {
   "cell_type": "markdown",
   "metadata": {},
   "source": [
    "## Get all Words Available in a Boggle Board"
   ]
  },
  {
   "cell_type": "code",
   "execution_count": 224,
   "metadata": {},
   "outputs": [],
   "source": [
    "def get_boggle_words(boggle_board):\n",
    "    words = set()\n",
    "    board_shape = np.shape(boggle_board)\n",
    "    for j,i in np.ndindex(board_shape):\n",
    "        next_char = boggle_board[j][i]\n",
    "        words |= get_boggle_words_from_index(boggle_board, next_char, ((i,j),), dict_trie[next_char], board_shape)\n",
    "    return words"
   ]
  },
  {
   "cell_type": "code",
   "execution_count": 225,
   "metadata": {},
   "outputs": [],
   "source": [
    "def is_valid_new_index(new_idx, idxs, board_shape):\n",
    "    i,j = new_idx\n",
    "    y_dim, x_dim = board_shape\n",
    "    return 0 <= i < x_dim and 0 <= j < y_dim and new_idx not in idxs"
   ]
  },
  {
   "cell_type": "code",
   "execution_count": 226,
   "metadata": {},
   "outputs": [],
   "source": [
    "def get_boggle_words_from_index(boggle_board, prev_chars, idxs, trie_node, board_shape):\n",
    "    i,j = idxs[-1]\n",
    "    words = set()\n",
    "    if term_char in trie_node:\n",
    "        words.add(prev_chars)\n",
    "\n",
    "    for x in [-1,0,1]:\n",
    "        for y in [-1,0,1]:\n",
    "            new_i = i + x\n",
    "            new_j = j + y\n",
    "            new_idx = (new_i, new_j);\n",
    "            if is_valid_new_index(new_idx, idxs, board_shape):\n",
    "                new_idxs = idxs + (new_idx,)\n",
    "                next_char = boggle_board[new_j][new_i]\n",
    "                if next_char in trie_node:\n",
    "                    words |= get_boggle_words_from_index(boggle_board, \n",
    "                                                         prev_chars+next_char, \n",
    "                                                         new_idxs, \n",
    "                                                         trie_node[next_char], \n",
    "                                                         board_shape)\n",
    "    return words"
   ]
  },
  {
   "cell_type": "code",
   "execution_count": 227,
   "metadata": {},
   "outputs": [
    {
     "data": {
      "text/plain": [
       "{'a'}"
      ]
     },
     "execution_count": 227,
     "metadata": {},
     "output_type": "execute_result"
    }
   ],
   "source": [
    "get_boggle_words([['a']])"
   ]
  },
  {
   "cell_type": "code",
   "execution_count": 228,
   "metadata": {},
   "outputs": [
    {
     "data": {
      "text/plain": [
       "{'a', 'an', 'na'}"
      ]
     },
     "execution_count": 228,
     "metadata": {},
     "output_type": "execute_result"
    }
   ],
   "source": [
    "get_boggle_words([['a', 'n']])"
   ]
  },
  {
   "cell_type": "code",
   "execution_count": 229,
   "metadata": {},
   "outputs": [
    {
     "data": {
      "text/plain": [
       "{'a', 'ab', 'an', 'ba', 'ban', 'na', 'nba', 'za'}"
      ]
     },
     "execution_count": 229,
     "metadata": {},
     "output_type": "execute_result"
    }
   ],
   "source": [
    "get_boggle_words([['a', 'z'],\n",
    "                  ['b', 'n']])"
   ]
  },
  {
   "cell_type": "code",
   "execution_count": 251,
   "metadata": {},
   "outputs": [
    {
     "data": {
      "text/plain": [
       "([['n', 'e', 'b', 'z'],\n",
       "  ['l', 'c', 'k', 't'],\n",
       "  ['x', 'r', 'g', 'v'],\n",
       "  ['b', 'y', 'm', 'd']],\n",
       " {'be',\n",
       "  'ben',\n",
       "  'by',\n",
       "  'crm',\n",
       "  'cry',\n",
       "  'el',\n",
       "  'en',\n",
       "  'gtk',\n",
       "  'gym',\n",
       "  'ken',\n",
       "  'len',\n",
       "  'my',\n",
       "  'ne',\n",
       "  'nec',\n",
       "  'neck'})"
      ]
     },
     "execution_count": 251,
     "metadata": {},
     "output_type": "execute_result"
    }
   ],
   "source": [
    "boggle_board = get_random_boggle_board() \n",
    "boggle_board, get_boggle_words(boggle_board)"
   ]
  },
  {
   "cell_type": "markdown",
   "metadata": {},
   "source": [
    "## What About an Object Oriented Approach"
   ]
  },
  {
   "cell_type": "code",
   "execution_count": 150,
   "metadata": {},
   "outputs": [],
   "source": [
    "class BoggleNode:\n",
    "    def __init__(self, char=None):\n",
    "        self.char = char or get_random_char();\n",
    "        self.adjacent_nodes = [];\n",
    "        \n",
    "    def add_adjacent_node(self, node):\n",
    "        self.adjacent_nodes.append(node)"
   ]
  },
  {
   "cell_type": "code",
   "execution_count": 249,
   "metadata": {},
   "outputs": [],
   "source": [
    "class BoggleBoard:\n",
    "    def __init__(self, shape=(4,4)):\n",
    "        self.shape = shape\n",
    "        self.board = [[BoggleNode() for i in range(shape[1])] for j in range(shape[0])]\n",
    "        self._initialize_node_links_()\n",
    "    \n",
    "    def _initialize_node_links_(self):\n",
    "        for j,i in np.ndindex(self.shape):\n",
    "            for offset_j, offset_i in np.ndindex((3,3)):\n",
    "                j2 = j - 1 + offset_j\n",
    "                i2 = i - 1 + offset_i\n",
    "                is_self_node = j2 == j and i2 == i\n",
    "                if (not is_self_node) and 0 <= j2 < self.shape[0] and 0 <= i2 < self.shape[1]:\n",
    "                    self.board[j][i].add_adjacent_node(self.board[j2][i2])\n",
    "                    \n",
    "    def find_all_words(self):\n",
    "        words = set()\n",
    "        for j,i in np.ndindex(self.shape):\n",
    "            node = self.board[j][i]\n",
    "            words |= self._find_words_from_node_(node, dict_trie[node.char], (node,));\n",
    "        return words\n",
    "        \n",
    "    def _find_words_from_node_(self, node, trie_node, prev_nodes):\n",
    "        words = set()\n",
    "        if term_char in trie_node:\n",
    "            words.add(''.join([node.char for node in prev_nodes]))\n",
    "        for next_node in node.adjacent_nodes:\n",
    "            next_char = next_node.char\n",
    "            if next_char in trie_node:\n",
    "                words |= self._find_words_from_node_(next_node, trie_node[next_char], prev_nodes + (next_node,))\n",
    "        return words\n",
    "    \n",
    "    def __repr__(self):\n",
    "        return '\\n'.join([' '.join([self.board[j][i].char for i in range(self.shape[1])]) for j in range(self.shape[0])])"
   ]
  },
  {
   "cell_type": "code",
   "execution_count": 250,
   "metadata": {},
   "outputs": [
    {
     "data": {
      "text/plain": [
       "(p p d r\n",
       " i n g e\n",
       " c w z w\n",
       " d m e l,\n",
       " {'de',\n",
       "  'der',\n",
       "  'dpi',\n",
       "  'drew',\n",
       "  'ed',\n",
       "  'edge',\n",
       "  'el',\n",
       "  'em',\n",
       "  'er',\n",
       "  'gdp',\n",
       "  'greg',\n",
       "  'grew',\n",
       "  'i',\n",
       "  'in',\n",
       "  'inc',\n",
       "  'ind',\n",
       "  'ing',\n",
       "  'me',\n",
       "  'mel',\n",
       "  'mem',\n",
       "  'pgp',\n",
       "  'pi',\n",
       "  'pic',\n",
       "  'picnic',\n",
       "  'pin',\n",
       "  'ping',\n",
       "  're',\n",
       "  'red',\n",
       "  'reg',\n",
       "  'we',\n",
       "  'wed',\n",
       "  'were',\n",
       "  'win',\n",
       "  'wind',\n",
       "  'wing'})"
      ]
     },
     "execution_count": 250,
     "metadata": {},
     "output_type": "execute_result"
    }
   ],
   "source": [
    "b = BoggleBoard(shape=(4,4))\n",
    "b,b.find_all_words()"
   ]
  },
  {
   "cell_type": "code",
   "execution_count": 90,
   "metadata": {},
   "outputs": [
    {
     "data": {
      "text/plain": [
       "(0, 0)"
      ]
     },
     "execution_count": 90,
     "metadata": {},
     "output_type": "execute_result"
    }
   ],
   "source": [
    "iter = np.ndindex(np.shape([[0],[0]]))\n",
    "next(iter)"
   ]
  },
  {
   "cell_type": "code",
   "execution_count": 106,
   "metadata": {},
   "outputs": [
    {
     "data": {
      "text/plain": [
       "array([[0., 0.],\n",
       "       [0., 0.],\n",
       "       [0., 0.]])"
      ]
     },
     "execution_count": 106,
     "metadata": {},
     "output_type": "execute_result"
    }
   ],
   "source": [
    "np.zeros((3,2))"
   ]
  },
  {
   "cell_type": "code",
   "execution_count": 125,
   "metadata": {},
   "outputs": [],
   "source": [
    "list(np.ndindex((3,3))).remove((1,1))"
   ]
  },
  {
   "cell_type": "code",
   "execution_count": 133,
   "metadata": {},
   "outputs": [
    {
     "data": {
      "text/plain": [
       "[]"
      ]
     },
     "execution_count": 133,
     "metadata": {},
     "output_type": "execute_result"
    }
   ],
   "source": [
    "test = [(1,1)]\n",
    "test.remove((1,1)); test"
   ]
  },
  {
   "cell_type": "code",
   "execution_count": 143,
   "metadata": {},
   "outputs": [
    {
     "data": {
      "text/plain": [
       "True"
      ]
     },
     "execution_count": 143,
     "metadata": {},
     "output_type": "execute_result"
    }
   ],
   "source": [
    "1 < 4 < 5"
   ]
  },
  {
   "cell_type": "code",
   "execution_count": 231,
   "metadata": {},
   "outputs": [
    {
     "data": {
      "text/plain": [
       "'ab'"
      ]
     },
     "execution_count": 231,
     "metadata": {},
     "output_type": "execute_result"
    }
   ],
   "source": [
    "''.join(['a', 'b'])"
   ]
  },
  {
   "cell_type": "code",
   "execution_count": null,
   "metadata": {},
   "outputs": [],
   "source": []
  }
 ],
 "metadata": {
  "kernelspec": {
   "display_name": "Python 3",
   "language": "python",
   "name": "python3"
  },
  "language_info": {
   "codemirror_mode": {
    "name": "ipython",
    "version": 3
   },
   "file_extension": ".py",
   "mimetype": "text/x-python",
   "name": "python",
   "nbconvert_exporter": "python",
   "pygments_lexer": "ipython3",
   "version": "3.6.4"
  }
 },
 "nbformat": 4,
 "nbformat_minor": 2
}
